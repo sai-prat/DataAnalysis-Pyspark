{
  "nbformat": 4,
  "nbformat_minor": 0,
  "metadata": {
    "colab": {
      "provenance": [],
      "toc_visible": true,
      "include_colab_link": true
    },
    "kernelspec": {
      "name": "python3",
      "display_name": "Python 3"
    }
  },
  "cells": [
    {
      "cell_type": "markdown",
      "metadata": {
        "id": "view-in-github",
        "colab_type": "text"
      },
      "source": [
        "<a href=\"https://colab.research.google.com/github/sai-prat/DataAnalysis-Pyspark/blob/main/The_Notebook.ipynb\" target=\"_parent\"><img src=\"https://colab.research.google.com/assets/colab-badge.svg\" alt=\"Open In Colab\"/></a>"
      ]
    },
    {
      "cell_type": "markdown",
      "metadata": {
        "id": "jPyDpDqvZuLo"
      },
      "source": [
        "# **Welcome to the Notebook**"
      ]
    },
    {
      "cell_type": "markdown",
      "metadata": {
        "id": "F2YNhXuUwGNl"
      },
      "source": [
        "### Let's mount the google drive"
      ]
    },
    {
      "cell_type": "code",
      "metadata": {
        "id": "MmQC7J5cvkzE",
        "colab": {
          "base_uri": "https://localhost:8080/"
        },
        "outputId": "e3c3a266-47d6-49f1-e626-4daaf4dcb68e"
      },
      "source": [
        "from google.colab import drive\n",
        "drive.mount('/content/drive')"
      ],
      "execution_count": 8,
      "outputs": [
        {
          "output_type": "stream",
          "name": "stdout",
          "text": [
            "Drive already mounted at /content/drive; to attempt to forcibly remount, call drive.mount(\"/content/drive\", force_remount=True).\n"
          ]
        }
      ]
    },
    {
      "cell_type": "markdown",
      "metadata": {
        "id": "cs9EInKyWicZ"
      },
      "source": [
        "# Task 1 :\n",
        "Installing pyspark module"
      ]
    },
    {
      "cell_type": "code",
      "metadata": {
        "id": "LJq2nzUKWujx",
        "colab": {
          "base_uri": "https://localhost:8080/"
        },
        "outputId": "0432de8f-0793-4ee5-edd6-bbaa338af304"
      },
      "source": [
        "!pip install pyspark"
      ],
      "execution_count": 9,
      "outputs": [
        {
          "output_type": "stream",
          "name": "stdout",
          "text": [
            "Requirement already satisfied: pyspark in /usr/local/lib/python3.10/dist-packages (3.5.0)\n",
            "Requirement already satisfied: py4j==0.10.9.7 in /usr/local/lib/python3.10/dist-packages (from pyspark) (0.10.9.7)\n"
          ]
        }
      ]
    },
    {
      "cell_type": "markdown",
      "metadata": {
        "id": "dVNAlw2jWiWb"
      },
      "source": [
        "Importing the modules"
      ]
    },
    {
      "cell_type": "code",
      "metadata": {
        "id": "gS3YIWJiW7I3"
      },
      "source": [
        "from pyspark.sql import SparkSession\n",
        "from pyspark.sql.functions import count, desc , col, max\n",
        "import matplotlib.pyplot as plts"
      ],
      "execution_count": 10,
      "outputs": []
    },
    {
      "cell_type": "markdown",
      "metadata": {
        "id": "RKuIUYLwSkNP"
      },
      "source": [
        "creating spark session"
      ]
    },
    {
      "cell_type": "code",
      "metadata": {
        "id": "XXSZBvRgSnCN",
        "cellView": "both"
      },
      "source": [
        "spark=SparkSession.builder.appName(\"spark_app\").getOrCreate()"
      ],
      "execution_count": 11,
      "outputs": []
    },
    {
      "cell_type": "markdown",
      "source": [],
      "metadata": {
        "id": "-aRUlma2n5b1"
      }
    },
    {
      "cell_type": "markdown",
      "metadata": {
        "id": "vv_SKqr8T9mT"
      },
      "source": [
        "# Task 2 :\n",
        "importing the *Listenings.csv* file:"
      ]
    },
    {
      "cell_type": "code",
      "metadata": {
        "id": "gK22lJDRTuKY"
      },
      "source": [
        "Listening_file_path='/content/drive/MyDrive/dataset/dataset/listenings.csv'\n",
        "df_listening=spark.read.format(\"csv\")\\\n",
        "             .option(\"InferSchema\",\"True\")\\\n",
        "             .option(\"header\",\"True\")\\\n",
        "             .load(Listening_file_path)"
      ],
      "execution_count": 12,
      "outputs": []
    },
    {
      "cell_type": "markdown",
      "metadata": {
        "id": "s1i6KVshykdn"
      },
      "source": [
        "let's check the data:"
      ]
    },
    {
      "cell_type": "code",
      "metadata": {
        "id": "5Ji0zViUyjUE",
        "colab": {
          "base_uri": "https://localhost:8080/"
        },
        "outputId": "c433ee81-4eb3-407b-be7b-632305324123"
      },
      "source": [
        "df_listening.show()"
      ],
      "execution_count": 13,
      "outputs": [
        {
          "output_type": "stream",
          "name": "stdout",
          "text": [
            "+-----------+-------------+--------------------+---------------+--------------------+\n",
            "|    user_id|         date|               track|         artist|               album|\n",
            "+-----------+-------------+--------------------+---------------+--------------------+\n",
            "|000Silenced|1299680100000|           Price Tag|       Jessie J|         Who You Are|\n",
            "|000Silenced|1299679920000|Price Tag (Acoust...|       Jessie J|           Price Tag|\n",
            "|000Silenced|1299679440000|Be Mine! (Ballad ...|          Robyn|            Be Mine!|\n",
            "|000Silenced|1299679200000|            Acapella|          Kelis|            Acapella|\n",
            "|000Silenced|1299675660000|   I'm Not Invisible|      The Tease|   I'm Not Invisible|\n",
            "|000Silenced|1297511400000|Bounce (Feat NORE...|       MSTRKRFT|         Fist of God|\n",
            "|000Silenced|1294498440000|Don't Stop The Mu...|        Rihanna|Addicted 2 Bassli...|\n",
            "|000Silenced|1292438340000|               ObZen|      Meshuggah|               ObZen|\n",
            "|000Silenced|1292437740000|   Yama's Messengers|         Gojira|The Way of All Flesh|\n",
            "|000Silenced|1292436360000|On the Brink of E...|   Napalm Death|Time Waits For No...|\n",
            "|000Silenced|1292436360000|On the Brink of E...|   Napalm Death|Time Waits For No...|\n",
            "|000Silenced|1292435940000|        In Deference|   Napalm Death|      Smear Campaign|\n",
            "|000Silenced|1292434920000|      Post(?)organic|    Decapitated|Organic Hallucinosis|\n",
            "|000Silenced|1292434560000|        Mind Feeders|   Dom & Roland| No Strings Attached|\n",
            "|000Silenced|1292434320000|Necrosadistic War...|Cannibal Corpse|                Kill|\n",
            "|000Silenced|1292365560000|     Dance All Night|   Dom & Roland|          Chronology|\n",
            "|000Silenced|1292365260000|          Late Night|   Dom & Roland|          Chronology|\n",
            "|000Silenced|1292365020000|          Freak Seen|   Dom & Roland|          Chronology|\n",
            "|000Silenced|1292364720000|Paradrenasite (Hi...|   Dom & Roland|          Chronology|\n",
            "|000Silenced|1292364300000|               Rhino|   Dom & Roland|          Chronology|\n",
            "+-----------+-------------+--------------------+---------------+--------------------+\n",
            "only showing top 20 rows\n",
            "\n"
          ]
        }
      ]
    },
    {
      "cell_type": "markdown",
      "source": [
        "printSchema() : It's method used to display the **schema** of the dataframe.Method of dataframe object.Displays column name and its datatypes of dataframe.\n",
        "        \n",
        "        df.printSchema()\n",
        "schema : It's an attribute used to display the schema of the dataframe in programmatic way.Attribute of dataframe object.\n",
        "\n",
        "        df.schema\n",
        "\n",
        "columns : It's an attribute retrieves the list of column names in the DataFrame.Attribute of dataframe object.Shows column names in a list format as output\n",
        "\n",
        "        df.columns\n",
        "\n",
        "show() :It's method used to display the **data** of the dataframe.Method of dataframe object.By default it will display only 20 records.If you pass any specific number in the show method,it will display only those.\n",
        "\n",
        "        df.show()\n",
        "\n",
        "\n"
      ],
      "metadata": {
        "id": "1XbOVnH4K5st"
      }
    },
    {
      "cell_type": "markdown",
      "source": [
        "Difference b/w pandas dataframe and pyspark dataframe\n",
        "\n",
        "1) ***Pandas dataframes*** are part of python ecosystem,immutable(cant change df once created),we can use only for small- medium sized data.Fits into memory of a single machine.No fault tolerance(not available during failuure).Mutable(Can chnage the data and structure later)\n",
        "\n",
        "2) ***pyspark dataframes*** are part of apache spark,designed for handling large scale data that is distibuted across cluster of machines.Offers fault tolerance.Immutable(Cannot change)"
      ],
      "metadata": {
        "id": "nCGtZhTl---i"
      }
    },
    {
      "cell_type": "markdown",
      "source": [
        "Let's print df_listening and see the what's in it"
      ],
      "metadata": {
        "id": "CytOK_y_ON5l"
      }
    },
    {
      "cell_type": "code",
      "source": [
        "id(df_listening)"
      ],
      "metadata": {
        "colab": {
          "base_uri": "https://localhost:8080/"
        },
        "id": "o9bjylXFOZgT",
        "outputId": "39c6fd83-1910-4915-f7d4-1d468b1a9de1"
      },
      "execution_count": 24,
      "outputs": [
        {
          "output_type": "execute_result",
          "data": {
            "text/plain": [
              "132745964056544"
            ]
          },
          "metadata": {},
          "execution_count": 24
        }
      ]
    },
    {
      "cell_type": "markdown",
      "source": [
        "In pyspark,even if two dataframes have the same content,they might still be different dataframe objects in memory due to immutable nature of datframes"
      ],
      "metadata": {
        "id": "IsVSIqmQP65H"
      }
    },
    {
      "cell_type": "markdown",
      "source": [
        "let's print the schema of the dataframe"
      ],
      "metadata": {
        "id": "qRdxQPdO-mK3"
      }
    },
    {
      "cell_type": "code",
      "source": [
        "df_listening.printSchema()"
      ],
      "metadata": {
        "colab": {
          "base_uri": "https://localhost:8080/"
        },
        "id": "-7ExkIha-eGG",
        "outputId": "6bb41cbe-cfc8-4bcf-de9d-da459590e273"
      },
      "execution_count": 14,
      "outputs": [
        {
          "output_type": "stream",
          "name": "stdout",
          "text": [
            "root\n",
            " |-- user_id: string (nullable = true)\n",
            " |-- date: long (nullable = true)\n",
            " |-- track: string (nullable = true)\n",
            " |-- artist: string (nullable = true)\n",
            " |-- album: string (nullable = true)\n",
            "\n"
          ]
        }
      ]
    },
    {
      "cell_type": "markdown",
      "source": [
        "let's print the schema of the dataframe in another way using SCHEMA attribute"
      ],
      "metadata": {
        "id": "a2E3YRZjNsR0"
      }
    },
    {
      "cell_type": "code",
      "source": [
        "df_listening.schema"
      ],
      "metadata": {
        "colab": {
          "base_uri": "https://localhost:8080/"
        },
        "id": "vurGxhlqN5OP",
        "outputId": "65aed8ee-531c-4732-97f6-448b40ab3d40"
      },
      "execution_count": 15,
      "outputs": [
        {
          "output_type": "execute_result",
          "data": {
            "text/plain": [
              "StructType([StructField('user_id', StringType(), True), StructField('date', LongType(), True), StructField('track', StringType(), True), StructField('artist', StringType(), True), StructField('album', StringType(), True)])"
            ]
          },
          "metadata": {},
          "execution_count": 15
        }
      ]
    },
    {
      "cell_type": "markdown",
      "source": [
        "Display the list of columns in a dataframe"
      ],
      "metadata": {
        "id": "0xaWbsg9OGUO"
      }
    },
    {
      "cell_type": "code",
      "source": [
        "df_listening.columns"
      ],
      "metadata": {
        "colab": {
          "base_uri": "https://localhost:8080/"
        },
        "id": "pStOI8LeOC_R",
        "outputId": "bc997d05-6f81-45c1-f0c9-9655b41ce839"
      },
      "execution_count": 16,
      "outputs": [
        {
          "output_type": "execute_result",
          "data": {
            "text/plain": [
              "['user_id', 'date', 'track', 'artist', 'album']"
            ]
          },
          "metadata": {},
          "execution_count": 16
        }
      ]
    },
    {
      "cell_type": "markdown",
      "metadata": {
        "id": "HS6wd2d_woNC"
      },
      "source": [
        "***let's delete useless columns:***"
      ]
    },
    {
      "cell_type": "code",
      "metadata": {
        "id": "pIMzBAglwtNP"
      },
      "source": [
        "df_listening=df_listening.drop('date')"
      ],
      "execution_count": 20,
      "outputs": []
    },
    {
      "cell_type": "markdown",
      "source": [
        "Now Lets check the object id of df_listening"
      ],
      "metadata": {
        "id": "n0OGQuOTR2fz"
      }
    },
    {
      "cell_type": "code",
      "source": [
        "id(df_listening)"
      ],
      "metadata": {
        "colab": {
          "base_uri": "https://localhost:8080/"
        },
        "id": "UmetCTJ7SC7Z",
        "outputId": "2e322a4e-5606-464e-859e-effd7f9ff30d"
      },
      "execution_count": 22,
      "outputs": [
        {
          "output_type": "execute_result",
          "data": {
            "text/plain": [
              "132745964056544"
            ]
          },
          "metadata": {},
          "execution_count": 22
        }
      ]
    },
    {
      "cell_type": "markdown",
      "source": [
        "old df_listening object id=132745966436256\n",
        "\n",
        "new df_listening object id=132745964056544\n",
        "\n",
        "you might get a doubt that df_listening is a df and immutable.but how come below statemnet works\n",
        "\n",
        "df_listening=df_listening.drop('date')\n",
        "\n",
        "HerE df_listening is a variable not dataframae,this df_listening.drop('date') gives new dataframe ,so this new dataframe has new object id,that new object id is reassigned to df_listening variable.therefore ,df_listening refers to new dataframe and gives values of new dataframae"
      ],
      "metadata": {
        "id": "4Adbhi8dSTWT"
      }
    },
    {
      "cell_type": "markdown",
      "source": [
        "show now what is inside of df_listening.     #date column will be removed"
      ],
      "metadata": {
        "id": "ojVCeZ6zT95V"
      }
    },
    {
      "cell_type": "code",
      "source": [
        "df_listening.show()"
      ],
      "metadata": {
        "colab": {
          "base_uri": "https://localhost:8080/"
        },
        "id": "KY7N9RZJUS4_",
        "outputId": "7cc43248-58fe-482a-ef94-9eee26911e28"
      },
      "execution_count": 23,
      "outputs": [
        {
          "output_type": "stream",
          "name": "stdout",
          "text": [
            "+-----------+--------------------+---------------+--------------------+\n",
            "|    user_id|               track|         artist|               album|\n",
            "+-----------+--------------------+---------------+--------------------+\n",
            "|000Silenced|           Price Tag|       Jessie J|         Who You Are|\n",
            "|000Silenced|Price Tag (Acoust...|       Jessie J|           Price Tag|\n",
            "|000Silenced|Be Mine! (Ballad ...|          Robyn|            Be Mine!|\n",
            "|000Silenced|            Acapella|          Kelis|            Acapella|\n",
            "|000Silenced|   I'm Not Invisible|      The Tease|   I'm Not Invisible|\n",
            "|000Silenced|Bounce (Feat NORE...|       MSTRKRFT|         Fist of God|\n",
            "|000Silenced|Don't Stop The Mu...|        Rihanna|Addicted 2 Bassli...|\n",
            "|000Silenced|               ObZen|      Meshuggah|               ObZen|\n",
            "|000Silenced|   Yama's Messengers|         Gojira|The Way of All Flesh|\n",
            "|000Silenced|On the Brink of E...|   Napalm Death|Time Waits For No...|\n",
            "|000Silenced|On the Brink of E...|   Napalm Death|Time Waits For No...|\n",
            "|000Silenced|        In Deference|   Napalm Death|      Smear Campaign|\n",
            "|000Silenced|      Post(?)organic|    Decapitated|Organic Hallucinosis|\n",
            "|000Silenced|        Mind Feeders|   Dom & Roland| No Strings Attached|\n",
            "|000Silenced|Necrosadistic War...|Cannibal Corpse|                Kill|\n",
            "|000Silenced|     Dance All Night|   Dom & Roland|          Chronology|\n",
            "|000Silenced|          Late Night|   Dom & Roland|          Chronology|\n",
            "|000Silenced|          Freak Seen|   Dom & Roland|          Chronology|\n",
            "|000Silenced|Paradrenasite (Hi...|   Dom & Roland|          Chronology|\n",
            "|000Silenced|               Rhino|   Dom & Roland|          Chronology|\n",
            "+-----------+--------------------+---------------+--------------------+\n",
            "only showing top 20 rows\n",
            "\n"
          ]
        }
      ]
    },
    {
      "cell_type": "markdown",
      "source": [
        "Drop NULL records in a dataframe\n",
        "df.na.drop(how='a"
      ],
      "metadata": {
        "id": "2A6dAEuPXsyD"
      }
    },
    {
      "cell_type": "markdown",
      "metadata": {
        "id": "MwpJJeWa4qmn"
      },
      "source": [
        "***drop the null rows:***"
      ]
    },
    {
      "cell_type": "code",
      "metadata": {
        "id": "Botf6-Vb4uqs"
      },
      "source": [
        "df_listening=df_listening.na.dr"
      ],
      "execution_count": null,
      "outputs": []
    },
    {
      "cell_type": "markdown",
      "source": [
        "df"
      ],
      "metadata": {
        "id": "kvHGuBfLIMVp"
      }
    },
    {
      "cell_type": "markdown",
      "metadata": {
        "id": "tTN6jr3K4xkF"
      },
      "source": [
        "let's check the dataset again:"
      ]
    },
    {
      "cell_type": "code",
      "metadata": {
        "id": "JDp_rdEY40u3"
      },
      "source": [],
      "execution_count": null,
      "outputs": []
    },
    {
      "cell_type": "markdown",
      "metadata": {
        "id": "Z7nKCYoZltnv"
      },
      "source": [
        "let's see the schema:"
      ]
    },
    {
      "cell_type": "code",
      "metadata": {
        "id": "qVg1jt1OyWdh"
      },
      "source": [],
      "execution_count": null,
      "outputs": []
    },
    {
      "cell_type": "markdown",
      "metadata": {
        "id": "JMkQsQt2xSb5"
      },
      "source": [
        "let's see the shape of our dataframe:"
      ]
    },
    {
      "cell_type": "code",
      "metadata": {
        "id": "6POkV3YFmh6b"
      },
      "source": [],
      "execution_count": null,
      "outputs": []
    },
    {
      "cell_type": "markdown",
      "metadata": {
        "id": "XMD0DhFl2FEJ"
      },
      "source": [
        "# Task 3:\n",
        "\n",
        "**Query #0:**\n",
        "select two columns: track and artist"
      ]
    },
    {
      "cell_type": "code",
      "metadata": {
        "id": "FZTdA5wn2TZy"
      },
      "source": [],
      "execution_count": null,
      "outputs": []
    },
    {
      "cell_type": "markdown",
      "metadata": {
        "id": "QRcgXOFs2hjw"
      },
      "source": [
        "**Query #1**:\n",
        "\n",
        "Let's find all of the records of those users who have listened to ***Rihanna***"
      ]
    },
    {
      "cell_type": "code",
      "metadata": {
        "id": "ICyiTMVnppLw"
      },
      "source": [],
      "execution_count": null,
      "outputs": []
    },
    {
      "cell_type": "markdown",
      "metadata": {
        "id": "I0IafeyvFU9O"
      },
      "source": [
        "**Query #2:**\n",
        "\n",
        "Let's find top 10 users who are fan of ***Rihanna***"
      ]
    },
    {
      "cell_type": "code",
      "metadata": {
        "id": "3-hM9kMm7JmI"
      },
      "source": [],
      "execution_count": null,
      "outputs": []
    },
    {
      "cell_type": "markdown",
      "metadata": {
        "id": "hgAAl6aAcp41"
      },
      "source": [
        "**Query #3:**\n",
        "\n",
        "find top 10 famous tracks"
      ]
    },
    {
      "cell_type": "code",
      "metadata": {
        "id": "qlh3IUzfJ3_I"
      },
      "source": [],
      "execution_count": null,
      "outputs": []
    },
    {
      "cell_type": "markdown",
      "metadata": {
        "id": "HqhPhQvjeXt0"
      },
      "source": [
        "**Query #4:**\n",
        "\n",
        "find top 10 famous tracks of ***Rihanna***"
      ]
    },
    {
      "cell_type": "code",
      "metadata": {
        "id": "D_npmdh1ec8y"
      },
      "source": [],
      "execution_count": null,
      "outputs": []
    },
    {
      "cell_type": "markdown",
      "metadata": {
        "id": "E6pgcH0p1ZXo"
      },
      "source": [
        "**Query #5:**\n",
        "\n",
        "find top 10 famous albums"
      ]
    },
    {
      "cell_type": "code",
      "metadata": {
        "id": "c5YHm6yKenE7"
      },
      "source": [],
      "execution_count": null,
      "outputs": []
    },
    {
      "cell_type": "markdown",
      "metadata": {
        "id": "YXev8HQ57bdq"
      },
      "source": [
        "# Task 4 :\n",
        "importing the ***genre.csv*** file:"
      ]
    },
    {
      "cell_type": "code",
      "metadata": {
        "id": "tpXSrYfu14PB"
      },
      "source": [],
      "execution_count": null,
      "outputs": []
    },
    {
      "cell_type": "markdown",
      "metadata": {
        "id": "aCHSo36W9RcP"
      },
      "source": [
        "let's check the data"
      ]
    },
    {
      "cell_type": "code",
      "metadata": {
        "id": "LJu4Ouz89O6_"
      },
      "source": [],
      "execution_count": null,
      "outputs": []
    },
    {
      "cell_type": "markdown",
      "metadata": {
        "id": "72OpWX7F98qg"
      },
      "source": [
        "Let's inner join these two data frames"
      ]
    },
    {
      "cell_type": "markdown",
      "metadata": {
        "id": "yM_f5qILBNeI"
      },
      "source": [
        "**Query #6**\n",
        "\n",
        "find top 10 users who are fan of ***pop*** music"
      ]
    },
    {
      "cell_type": "code",
      "metadata": {
        "id": "dognQVlxBi2n"
      },
      "source": [],
      "execution_count": null,
      "outputs": []
    },
    {
      "cell_type": "markdown",
      "metadata": {
        "id": "63quzy7t-zb7"
      },
      "source": [
        "**Query #7**\n",
        "\n",
        "find top 10 famous genres"
      ]
    },
    {
      "cell_type": "code",
      "metadata": {
        "id": "aDFcoPPk-Rhf"
      },
      "source": [],
      "execution_count": null,
      "outputs": []
    },
    {
      "cell_type": "markdown",
      "metadata": {
        "id": "hrZOAWVgLMZo"
      },
      "source": [
        "# Task 5:\n",
        "**Query #8**\n",
        "\n",
        "find out each user favourite genre"
      ]
    },
    {
      "cell_type": "code",
      "metadata": {
        "id": "H3AWxlkbLvCg"
      },
      "source": [],
      "execution_count": null,
      "outputs": []
    },
    {
      "cell_type": "code",
      "metadata": {
        "id": "Soy2bMxQN-Ub"
      },
      "source": [],
      "execution_count": null,
      "outputs": []
    },
    {
      "cell_type": "markdown",
      "metadata": {
        "id": "6oIyhOHkCDuv"
      },
      "source": [
        "**Query #9**\n",
        "\n",
        "find out how many pop,rock,metal and hip hop singers we have\n",
        "\n",
        "and then visulize it using bar chart"
      ]
    },
    {
      "cell_type": "code",
      "metadata": {
        "id": "7_lEjNKVCDJv"
      },
      "source": [],
      "execution_count": null,
      "outputs": []
    },
    {
      "cell_type": "markdown",
      "metadata": {
        "id": "h0h2SSk8InMH"
      },
      "source": [
        "Now, let's visualize the results using ***matplotlib***"
      ]
    },
    {
      "cell_type": "code",
      "metadata": {
        "id": "J-n8gOC0Imj5"
      },
      "source": [],
      "execution_count": null,
      "outputs": []
    },
    {
      "cell_type": "code",
      "metadata": {
        "id": "CMigHLrEQgKv"
      },
      "source": [],
      "execution_count": null,
      "outputs": []
    },
    {
      "cell_type": "code",
      "metadata": {
        "id": "FYLE4Mbu_Lbu"
      },
      "source": [],
      "execution_count": null,
      "outputs": []
    },
    {
      "cell_type": "markdown",
      "metadata": {
        "id": "1iDrvEwYQ4AE"
      },
      "source": [
        "now lets visualize these two lists using a bar chart"
      ]
    },
    {
      "cell_type": "code",
      "metadata": {
        "id": "XOOq1U9BQjKI"
      },
      "source": [],
      "execution_count": null,
      "outputs": []
    }
  ]
}